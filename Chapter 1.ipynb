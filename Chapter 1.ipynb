{
 "cells": [
  {
   "cell_type": "markdown",
   "id": "62612dc0",
   "metadata": {},
   "source": [
    "# Part 1\n",
    "\n",
    "Generate spikes for 10 s (or longer if you want better statistics) using a Poisson spike generator with a constant rate of 100 Hz, and record their times of occurrence. Compute the coefficient of variation of the interspike intervals, and the Fano factor for spike counts obtained over counting intervals ranging from 1 ms to 100 ms. Plot the interspike interval histogram."
   ]
  },
  {
   "cell_type": "code",
   "execution_count": 116,
   "id": "083d7e98",
   "metadata": {},
   "outputs": [
    {
     "name": "stdout",
     "output_type": "stream",
     "text": [
      "The coefficient of variation of the inter-spike intervals is 0.973.\n",
      "The Fano factors of the spike counts when the bin size is 1 ms is 0.906 and 0.958 for when it is 100 ms.\n"
     ]
    },
    {
     "data": {
      "image/png": "[encoded data removed]",
      "text/plain": [
       "<Figure size 432x288 with 1 Axes>"
      ]
     },
     "metadata": {
      "needs_background": "light"
     },
     "output_type": "display_data"
    }
   ],
   "source": [
    "# Import the necessary packages\n",
    "import matplotlib.pyplot as plt\n",
    "import numpy as np\n",
    "\n",
    "# For replicability\n",
    "np.random.seed(101)\n",
    "\n",
    "# Exercise 1_1\n",
    "# Our goal is to generate and analyse spike times using a Poisson spike generator with a\n",
    "# constant rate of 100 Hz. In other words, a homogeneous Poisson point process. We\n",
    "# additionally need to obtain the inter-spike interval distribution and then calculate the\n",
    "# Fano factor and the coefficient of variation\n",
    "\n",
    "T = 100  # total time, seconds\n",
    "r = 100  # firing rate, Hz\n",
    "time_step = 0.001  # seconds\n",
    "time_vector_max = int(T/time_step)\n",
    "time_vector = np.arange(0, time_vector_max)\n",
    "rt = time_step*r\n",
    "\n",
    "# Generate the spikes using the native Poisson pdf function\n",
    "spikes = np.random.poisson(lam=rt, size=time_vector_max)\n",
    "spikes[spikes > 1] = 1\n",
    "\n",
    "# Obtain the spike times\n",
    "spike_times = time_vector[spikes == 1]\n",
    "\n",
    "# Generate the inter-spike interval data\n",
    "t_isi = np.diff(spike_times)\n",
    "\n",
    "# Plot the inter-spike interval data\n",
    "plt.hist(t_isi, bins=30)\n",
    "plt.xlim(left=0)\n",
    "plt.title(\"Inter-spike interval data\")\n",
    "plt.xlabel(\"Time [ms]\")\n",
    "plt.ylabel(\"Count\")\n",
    "\n",
    "mean_t_isi = np.mean(t_isi)\n",
    "std_t_isi = np.std(t_isi)\n",
    "var_t_isi = std_t_isi**2\n",
    "C_v = std_t_isi/mean_t_isi\n",
    "\n",
    "# Calculate the Fano for 1 ms window\n",
    "Fano_1ms = (np.std(spikes)**2)/np.mean(spikes)\n",
    "\n",
    "k = 100\n",
    "\n",
    "counts = []\n",
    "for i in range(1, int(len(spikes)/k+1)):\n",
    "    counts.append(sum(spikes[(i-1)*k:(i*k)]))\n",
    "\n",
    "# Calculate the Fano for 100 ms window\n",
    "Fano_100ms = np.var(counts)/np.mean(counts)\n",
    "\n",
    "\n",
    "print(f\"The coefficient of variation of the inter-spike intervals is {C_v:.3f}.\")\n",
    "print(f\"The Fano factors of the spike counts when the bin size is 1 ms is {Fano_1ms:.3f} and \"\n",
    "      f\"{Fano_100ms:.3f} for when it is 100 ms.\")\n",
    "plt.show()"
   ]
  },
  {
   "cell_type": "markdown",
   "id": "3bcf4c8e",
   "metadata": {},
   "source": [
    "# Part 2\n",
    "\n",
    "Add a refractory period to the Poisson spike generator by allowing the firing rate to depend on time. Initially, set the firing rate to a constant value, $r(t)=r_0$. After every spike, set $r(t)$ to 0, and then allow it to recover exponentially back to $r_0$ with a time constant $\\tau_{ref}$ that controls the refractory recovery rate. In other words, have $r(t)$ obey the equation\n",
    "\n",
    "$$ \n",
    "\\tau_{ref} \\frac{dr}{dt} = r_0 - r \n",
    "$$\n",
    "\n",
    "except immediately after a spike, when it is set to 0. Plot the coefficient of variation as a function of $\\tau_{ref}$ over the range 1 ms $\\leq \\tau_{ref} \\leq$ 20 ms, and plot interspike interval histograms for a few different values of $\\tau_{ref}$ in this range. Compute the Fano factor for spike counts obtained\n",
    "over counting intervals ranging from 1 to 100 ms for the case $\\tau_{ref}$ = 10 ms. "
   ]
  },
  {
   "cell_type": "code",
   "execution_count": 104,
   "id": "28dd83b1",
   "metadata": {},
   "outputs": [],
   "source": [
    "# Import the necessary packages\n",
    "import matplotlib.pyplot as plt\n",
    "import numpy as np\n",
    "import pandas as pd \n",
    "\n",
    "# For replicability\n",
    "np.random.seed(101)\n",
    "\n",
    "# Exercise 1_2\n",
    "# Here, our task is to add a refractory period to the Poisson spike generator we created above. This \n",
    "# essentially turns the homogeneous Poisson point process into inhomogeneous since the rate is time-dependent. \n",
    "# In order to do that, we need to solve the differential equation given above. The section below explains how."
   ]
  },
  {
   "cell_type": "markdown",
   "id": "f27661e1",
   "metadata": {},
   "source": [
    "The solution to the differential equation in the continuous case is actually given in the book, see Mathematical Appendix A.3 Differential Equations, equation A.68. However, we need to discretise the solution for our present purposes. \n",
    "\n",
    "$$ \n",
    "\\tau_{ref} \\frac{dr}{dt} = r_0 - r(t)\n",
    "$$\n",
    "\n",
    "We need to integrate over the interval $[t, t + \\Delta t ] $. Firstly, we use a placeholder variable $z(t)$ and set it to $z(t) = r(t) - r_0$ and we rewrite the equation as follows\n",
    "\n",
    "$$\n",
    "\\frac{dz}{z} = -\\frac{dt}{\\tau_{ref}}\n",
    "$$\n",
    "\n",
    "Then we integrate both sides. \n",
    "LHS:\n",
    "\n",
    "$$\n",
    "\\int_{z(t)}^{z(t+\\Delta t)} dz' \\frac{1}{z'} = ln(z(t + \\Delta t)) - ln(z(t)) = ln \\left( \\frac{z(t + \\Delta t)}{z(t)} \\right)\n",
    "$$\n",
    "\n",
    "and RHS: \n",
    "\n",
    "$$\n",
    "\\int_{z(t)}^{z(t+\\Delta t)} -\\frac{dt}{\\tau_{ref}} = -\\frac{\\Delta t}{\\tau_{ref}}\n",
    "$$\n",
    "\n",
    "which yields, after taking the exponential of both sides\n",
    "$$\n",
    "\\frac{z(t + \\Delta t)}{z(t)} = exp \\left ( -\\frac{\\Delta t}{\\tau_{ref}} \\right)\n",
    "$$\n",
    "\n",
    "$$\n",
    "z(t + \\Delta t) = z(t) \\cdot exp \\left ( -\\frac{\\Delta t}{\\tau_{ref}} \\right)\n",
    "$$\n",
    "\n",
    "Substituting back the $z$\n",
    "\n",
    "$$\n",
    "r(t + \\Delta t) - r_0 = (r(t) - r_0 ) \\cdot exp \\left ( -\\frac{\\Delta t}{\\tau_{ref}} \\right)\n",
    "$$\n",
    "\n",
    "Thus, the solution is:\n",
    "\n",
    "$$\n",
    "r(t + \\Delta t) = r_0 + (r(t) - r_0) \\cdot exp \\left ( -\\frac{\\Delta t}{\\tau_{ref}} \\right)\n",
    "$$\n",
    "\n",
    "(NB: Technically, we are making the assumption here that the $\\Delta t$ is small enough that the firing rate doesn't change in this window.) "
   ]
  },
  {
   "cell_type": "code",
   "execution_count": 115,
   "id": "386f2018",
   "metadata": {},
   "outputs": [
    {
     "data": {
      "image/png": "[encoded data removed]",
      "text/plain": [
       "<Figure size 432x288 with 1 Axes>"
      ]
     },
     "metadata": {
      "needs_background": "light"
     },
     "output_type": "display_data"
    }
   ],
   "source": [
    "T = 100  # total time, seconds\n",
    "r_0 = 100  # firing rate, Hz\n",
    "time_step = 0.001  # seconds\n",
    "time_vector_max = int(T/time_step)\n",
    "time_vector = np.arange(0, time_vector_max)\n",
    "\n",
    "# Generate the spikes using the native Poisson pdf function in a for loop this time \n",
    "\n",
    "def spike_generation(tau_r, spike_data):\n",
    "\n",
    "    r = []\n",
    "    spikes = []\n",
    "    for count, value in enumerate(time_vector):\n",
    "\n",
    "        # Set firing rate to the steady state value at first \n",
    "        if count == 0:\n",
    "            r.append(r_0) \n",
    "            spikes.append(int(np.random.poisson(lam=r[count]*time_step, size=1)))\n",
    "\n",
    "        else:  \n",
    "            \n",
    "            # Set firing rate to 0 immediately after a spike \n",
    "            if spikes[count-1] != 0: \n",
    "                r.append(0) \n",
    "                spikes.append(int(np.random.poisson(lam=r[count]*time_step, size=1)))\n",
    "                \n",
    "            else: \n",
    "                r.append(r_0 + (r[count-1] - r_0)*np.exp(-time_step/tau_r))\n",
    "                spikes.append(int(np.random.poisson(lam=r[count]*time_step, size=1)))\n",
    "\n",
    "    spikes = np.array(spikes)\n",
    "    spikes[spikes > 1] = 1\n",
    "    return spikes\n",
    "\n",
    "\n",
    "# Create a list of taus \n",
    "tau_list = [0.001, 0.005, 0.01, 0.02]\n",
    "spike_data = {}\n",
    "isi_data = {}\n",
    "Fano_1ms = []\n",
    "Fano_100ms = []\n",
    "C_v = []\n",
    "k = 100\n",
    "\n",
    "for tau_r in tau_list:\n",
    "\n",
    "    spikes = spike_generation(tau_r, spike_data)\n",
    "    spike_data[f\"{tau_r}\"] = spikes\n",
    "    spike_times = time_vector[spike_data[f\"{tau_r}\"] == 1]\n",
    "    isi_data[f\"{tau_r}\"] = np.diff(time_vector[spike_data[f\"{tau_r}\"] == 1])\n",
    "    plt.hist(isi_data[f\"{tau_r}\"], bins=30)\n",
    "\n",
    "    # Calculate the Fano for 1 ms window\n",
    "    Fano_1ms.append((np.std(spikes)**2)/np.mean(spikes))\n",
    "\n",
    "    # Compute the Fano factor for 100 ms window \n",
    "    counts = []\n",
    "    for i in range(1, int(len(spikes)/k+1)):\n",
    "        counts.append(sum(spikes[(i-1)*k:(i*k)]))\n",
    "\n",
    "    Fano_100ms.append(np.var(counts)/np.mean(counts)) \n",
    "    \n",
    "    # Compute the Cv for each isi \n",
    "    mean_t_isi = np.mean(isi_data[f\"{tau_r}\"])\n",
    "    std_t_isi = np.std(isi_data[f\"{tau_r}\"])\n",
    "    var_t_isi = std_t_isi**2\n",
    "    C_v.append(std_t_isi/mean_t_isi)\n",
    "\n",
    "    \n",
    "# Plot the inter-spike interval data\n",
    "# plt.figure()\n",
    "plt.hist(t_isi, bins=30, alpha=0.5)\n",
    "plt.xlim(left=0)\n",
    "plt.title(\"Inter-spike interval data\")\n",
    "plt.xlabel(\"Time [ms]\")\n",
    "plt.ylabel(\"Count\")\n",
    "legend = []\n",
    "[legend.append(val) for val in tau_list]\n",
    "legend.append(0)\n",
    "plt.legend(legend)\n",
    "plt.show()    \n",
    "\n",
    "# NB: The legend shows the values of tau for which the respective histogram was obtained. We also included the \n",
    "# histogram from the previous part for contrast"
   ]
  },
  {
   "cell_type": "code",
   "execution_count": 112,
   "id": "bda4d9dc",
   "metadata": {},
   "outputs": [
    {
     "data": {
      "text/html": [
       "<div>\n",
       "<style scoped>\n",
       "    .dataframe tbody tr th:only-of-type {\n",
       "        vertical-align: middle;\n",
       "    }\n",
       "\n",
       "    .dataframe tbody tr th {\n",
       "        vertical-align: top;\n",
       "    }\n",
       "\n",
       "    .dataframe thead th {\n",
       "        text-align: right;\n",
       "    }\n",
       "</style>\n",
       "<table border=\"1\" class=\"dataframe\">\n",
       "  <thead>\n",
       "    <tr style=\"text-align: right;\">\n",
       "      <th></th>\n",
       "      <th>Tau</th>\n",
       "      <th>Cv</th>\n",
       "      <th>Fano 1ms</th>\n",
       "      <th>Fano 100ms</th>\n",
       "    </tr>\n",
       "  </thead>\n",
       "  <tbody>\n",
       "    <tr>\n",
       "      <th>0</th>\n",
       "      <td>0.001</td>\n",
       "      <td>0.831993</td>\n",
       "      <td>0.91888</td>\n",
       "      <td>0.690515</td>\n",
       "    </tr>\n",
       "    <tr>\n",
       "      <th>1</th>\n",
       "      <td>0.005</td>\n",
       "      <td>0.705965</td>\n",
       "      <td>0.93393</td>\n",
       "      <td>0.506213</td>\n",
       "    </tr>\n",
       "    <tr>\n",
       "      <th>2</th>\n",
       "      <td>0.010</td>\n",
       "      <td>0.647333</td>\n",
       "      <td>0.94613</td>\n",
       "      <td>0.423470</td>\n",
       "    </tr>\n",
       "    <tr>\n",
       "      <th>3</th>\n",
       "      <td>0.020</td>\n",
       "      <td>0.614008</td>\n",
       "      <td>0.95620</td>\n",
       "      <td>0.417260</td>\n",
       "    </tr>\n",
       "  </tbody>\n",
       "</table>\n",
       "</div>"
      ],
      "text/plain": [
       "     Tau        Cv  Fano 1ms  Fano 100ms\n",
       "0  0.001  0.831993   0.91888    0.690515\n",
       "1  0.005  0.705965   0.93393    0.506213\n",
       "2  0.010  0.647333   0.94613    0.423470\n",
       "3  0.020  0.614008   0.95620    0.417260"
      ]
     },
     "execution_count": 112,
     "metadata": {},
     "output_type": "execute_result"
    }
   ],
   "source": [
    "# Put together a simple table of our values \n",
    "df = pd.DataFrame()\n",
    "df[\"Tau\"] = tau_list\n",
    "df[\"Cv\"] = C_v\n",
    "df[\"Fano 1ms\"] = Fano_1ms\n",
    "df[\"Fano 100ms\"] = Fano_100ms\n",
    "df"
   ]
  },
  {
   "cell_type": "code",
   "execution_count": 114,
   "id": "fcf89c94",
   "metadata": {},
   "outputs": [
    {
     "data": {
      "image/png": "[encoded data removed]",
      "text/plain": [
       "<Figure size 432x288 with 1 Axes>"
      ]
     },
     "metadata": {
      "needs_background": "light"
     },
     "output_type": "display_data"
    }
   ],
   "source": [
    "plt.figure()\n",
    "plt.plot(tau_list, C_v)\n",
    "plt.title(\"Coefficient of variation\")\n",
    "plt.xlabel(\"Tau of the firing rate [seconds]\")\n",
    "plt.ylabel(\"$C_v$\")\n",
    "plt.xticks(tau_list)\n",
    "plt.show()"
   ]
  }
 ],
 "metadata": {
  "kernelspec": {
   "display_name": "Python 3 (ipykernel)",
   "language": "python",
   "name": "python3"
  },
  "language_info": {
   "codemirror_mode": {
    "name": "ipython",
    "version": 3
   },
   "file_extension": ".py",
   "mimetype": "text/x-python",
   "name": "python",
   "nbconvert_exporter": "python",
   "pygments_lexer": "ipython3",
   "version": "3.9.12"
  }
 },
 "nbformat": 4,
 "nbformat_minor": 5
}
